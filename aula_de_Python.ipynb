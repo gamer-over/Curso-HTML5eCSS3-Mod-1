{
  "nbformat": 4,
  "nbformat_minor": 0,
  "metadata": {
    "colab": {
      "name": "aula de Python",
      "provenance": [],
      "authorship_tag": "ABX9TyNhxbHrqJdAp20ICHyTRnjq",
      "include_colab_link": true
    },
    "kernelspec": {
      "name": "python3",
      "display_name": "Python 3"
    },
    "language_info": {
      "name": "python"
    }
  },
  "cells": [
    {
      "cell_type": "markdown",
      "metadata": {
        "id": "view-in-github",
        "colab_type": "text"
      },
      "source": [
        "<a href=\"https://colab.research.google.com/github/gamer-over/Curso-HTML5eCSS3-Mod-1/blob/main/aula_de_Python.ipynb\" target=\"_parent\"><img src=\"https://colab.research.google.com/assets/colab-badge.svg\" alt=\"Open In Colab\"/></a>"
      ]
    },
    {
      "cell_type": "code",
      "metadata": {
        "colab": {
          "base_uri": "https://localhost:8080/"
        },
        "id": "pxu_I9n8i_u4",
        "outputId": "e0ec356a-4414-4dfe-a2bf-5a99fb49a924"
      },
      "source": [
        "name = \"Dã\"\n",
        "print(name)\n"
      ],
      "execution_count": 2,
      "outputs": [
        {
          "output_type": "stream",
          "name": "stdout",
          "text": [
            "Dã\n"
          ]
        }
      ]
    },
    {
      "cell_type": "code",
      "metadata": {
        "colab": {
          "base_uri": "https://localhost:8080/",
          "height": 35
        },
        "id": "RBSLEo_Lj8FI",
        "outputId": "0d81c5a7-f9bc-4415-e8c7-827e485cf5bf"
      },
      "source": [
        "name = \"dã\"\n",
        "name"
      ],
      "execution_count": 3,
      "outputs": [
        {
          "output_type": "execute_result",
          "data": {
            "application/vnd.google.colaboratory.intrinsic+json": {
              "type": "string"
            },
            "text/plain": [
              "'dã'"
            ]
          },
          "metadata": {},
          "execution_count": 3
        }
      ]
    },
    {
      "cell_type": "code",
      "metadata": {
        "colab": {
          "base_uri": "https://localhost:8080/"
        },
        "id": "5mcBGXs_kRKw",
        "outputId": "7be33931-e4d1-4cfb-ee17-01a6af49110f"
      },
      "source": [
        "idade = 15\n",
        "idade"
      ],
      "execution_count": 4,
      "outputs": [
        {
          "output_type": "execute_result",
          "data": {
            "text/plain": [
              "15"
            ]
          },
          "metadata": {},
          "execution_count": 4
        }
      ]
    },
    {
      "cell_type": "code",
      "metadata": {
        "colab": {
          "base_uri": "https://localhost:8080/"
        },
        "id": "UIxnx08NkZoZ",
        "outputId": "f7e1a42f-383d-46d7-e6fc-51a8ce04be25"
      },
      "source": [
        "idade + 2"
      ],
      "execution_count": 5,
      "outputs": [
        {
          "output_type": "execute_result",
          "data": {
            "text/plain": [
              "17"
            ]
          },
          "metadata": {},
          "execution_count": 5
        }
      ]
    },
    {
      "cell_type": "code",
      "metadata": {
        "colab": {
          "base_uri": "https://localhost:8080/"
        },
        "id": "w0cacwv_kcN2",
        "outputId": "b925a7c7-af92-42d7-e250-feebcfa4a390"
      },
      "source": [
        "idade"
      ],
      "execution_count": 6,
      "outputs": [
        {
          "output_type": "execute_result",
          "data": {
            "text/plain": [
              "15"
            ]
          },
          "metadata": {},
          "execution_count": 6
        }
      ]
    },
    {
      "cell_type": "code",
      "metadata": {
        "colab": {
          "base_uri": "https://localhost:8080/"
        },
        "id": "qzTM5NpEkfOF",
        "outputId": "f0b7a3d0-3e64-4d2e-dbfb-203a587f4352"
      },
      "source": [
        "idade = idade + 3\n",
        "idade"
      ],
      "execution_count": 7,
      "outputs": [
        {
          "output_type": "execute_result",
          "data": {
            "text/plain": [
              "18"
            ]
          },
          "metadata": {},
          "execution_count": 7
        }
      ]
    },
    {
      "cell_type": "code",
      "metadata": {
        "id": "xvDFQllTk3sW"
      },
      "source": [
        "def mais_um_ano(idade) :\n",
        "    print('Dentro da função')\n",
        "    return idade + 1"
      ],
      "execution_count": 8,
      "outputs": []
    },
    {
      "cell_type": "code",
      "metadata": {
        "colab": {
          "base_uri": "https://localhost:8080/"
        },
        "id": "n_EbhI6ilmEH",
        "outputId": "900d0d0e-b39c-496e-f6c1-bd100136fdeb"
      },
      "source": [
        "mais_um_ano(43)"
      ],
      "execution_count": 9,
      "outputs": [
        {
          "output_type": "stream",
          "name": "stdout",
          "text": [
            "Dentro da função\n"
          ]
        },
        {
          "output_type": "execute_result",
          "data": {
            "text/plain": [
              "44"
            ]
          },
          "metadata": {},
          "execution_count": 9
        }
      ]
    },
    {
      "cell_type": "code",
      "metadata": {
        "id": "0DTfXF-ImoUF"
      },
      "source": [
        "filme1 = \"Toy Story\"\n",
        "filme2 = \"Batman\"\n",
        "filme3 = \"Avangers\""
      ],
      "execution_count": null,
      "outputs": []
    },
    {
      "cell_type": "code",
      "metadata": {
        "colab": {
          "base_uri": "https://localhost:8080/"
        },
        "id": "0VgR2UG2mxmF",
        "outputId": "402943fa-570e-4383-eb07-77c50aa19cc2"
      },
      "source": [
        "filmes = [\"Toy Story\", \"Batman\",\"Avengers\"]\n",
        "filmes"
      ],
      "execution_count": 11,
      "outputs": [
        {
          "output_type": "execute_result",
          "data": {
            "text/plain": [
              "['Toy Story', 'Batman', 'Avengers']"
            ]
          },
          "metadata": {},
          "execution_count": 11
        }
      ]
    },
    {
      "cell_type": "code",
      "metadata": {
        "colab": {
          "base_uri": "https://localhost:8080/"
        },
        "id": "MmGCZFLfnJ7Q",
        "outputId": "b42eaca6-e8e3-49fb-b7a3-a7d377c0a3b7"
      },
      "source": [
        "filmes = [filme1,filme2,filme3]\n",
        "filmes\n"
      ],
      "execution_count": 13,
      "outputs": [
        {
          "output_type": "execute_result",
          "data": {
            "text/plain": [
              "['Toy Story 17', 'Matrix 1', 'Batman']"
            ]
          },
          "metadata": {},
          "execution_count": 13
        }
      ]
    },
    {
      "cell_type": "code",
      "metadata": {
        "colab": {
          "base_uri": "https://localhost:8080/"
        },
        "id": "ytbL29-eo3IK",
        "outputId": "f263c042-f1a5-412b-c3cf-1d63859b40da"
      },
      "source": [
        "list()"
      ],
      "execution_count": 15,
      "outputs": [
        {
          "output_type": "execute_result",
          "data": {
            "text/plain": [
              "[]"
            ]
          },
          "metadata": {},
          "execution_count": 15
        }
      ]
    },
    {
      "cell_type": "code",
      "metadata": {
        "id": "8QRIk4YUo8xY"
      },
      "source": [
        "def imprime_filmes(filmes_que_quero_imprimir):\n",
        "    print(\"A lista de filmes que eu tenho disponível\")\n",
        "    print(filmes)"
      ],
      "execution_count": 16,
      "outputs": []
    },
    {
      "cell_type": "code",
      "metadata": {
        "colab": {
          "base_uri": "https://localhost:8080/"
        },
        "id": "LSqV0TtypZgC",
        "outputId": "f0c24bf2-8031-403c-d074-6f87c4630e86"
      },
      "source": [
        "imprime_filmes(filmes)"
      ],
      "execution_count": 18,
      "outputs": [
        {
          "output_type": "stream",
          "name": "stdout",
          "text": [
            "A lista de filmes que eu tenho disponível\n",
            "['Toy Story 17', 'Matrix 1', 'Batman']\n"
          ]
        }
      ]
    },
    {
      "cell_type": "code",
      "metadata": {
        "colab": {
          "base_uri": "https://localhost:8080/",
          "height": 35
        },
        "id": "3609CnBGpvH7",
        "outputId": "9c8103bf-e181-42d9-e697-aca2b7dc4741"
      },
      "source": [
        "filmes[1]"
      ],
      "execution_count": 19,
      "outputs": [
        {
          "output_type": "execute_result",
          "data": {
            "application/vnd.google.colaboratory.intrinsic+json": {
              "type": "string"
            },
            "text/plain": [
              "'Matrix 1'"
            ]
          },
          "metadata": {},
          "execution_count": 19
        }
      ]
    },
    {
      "cell_type": "code",
      "metadata": {
        "colab": {
          "base_uri": "https://localhost:8080/",
          "height": 35
        },
        "id": "qCQFUgCfrVk4",
        "outputId": "8d6cb98b-fb5b-41ac-b597-cd54242cd86d"
      },
      "source": [
        "filmes[0]"
      ],
      "execution_count": 21,
      "outputs": [
        {
          "output_type": "execute_result",
          "data": {
            "application/vnd.google.colaboratory.intrinsic+json": {
              "type": "string"
            },
            "text/plain": [
              "'Toy Story 17'"
            ]
          },
          "metadata": {},
          "execution_count": 21
        }
      ]
    },
    {
      "cell_type": "code",
      "metadata": {
        "colab": {
          "base_uri": "https://localhost:8080/",
          "height": 35
        },
        "id": "bD6cm26mrbQt",
        "outputId": "35814d3a-1ebd-4806-e1c4-4db5aa8e0e6f"
      },
      "source": [
        "filmes[2]"
      ],
      "execution_count": 22,
      "outputs": [
        {
          "output_type": "execute_result",
          "data": {
            "application/vnd.google.colaboratory.intrinsic+json": {
              "type": "string"
            },
            "text/plain": [
              "'Batman'"
            ]
          },
          "metadata": {},
          "execution_count": 22
        }
      ]
    },
    {
      "cell_type": "code",
      "metadata": {
        "colab": {
          "base_uri": "https://localhost:8080/",
          "height": 35
        },
        "id": "wuElIyBZrd62",
        "outputId": "60f38eac-fd0e-45df-acc5-26d024c4c63d"
      },
      "source": [
        "filmes[-1]"
      ],
      "execution_count": 23,
      "outputs": [
        {
          "output_type": "execute_result",
          "data": {
            "application/vnd.google.colaboratory.intrinsic+json": {
              "type": "string"
            },
            "text/plain": [
              "'Batman'"
            ]
          },
          "metadata": {},
          "execution_count": 23
        }
      ]
    },
    {
      "cell_type": "code",
      "metadata": {
        "colab": {
          "base_uri": "https://localhost:8080/",
          "height": 35
        },
        "id": "8Wg9xD8arsU0",
        "outputId": "ff937099-fa82-4f3c-899c-b904f7f3bc56"
      },
      "source": [
        "filmes[-2]"
      ],
      "execution_count": 26,
      "outputs": [
        {
          "output_type": "execute_result",
          "data": {
            "application/vnd.google.colaboratory.intrinsic+json": {
              "type": "string"
            },
            "text/plain": [
              "'Matrix 1'"
            ]
          },
          "metadata": {},
          "execution_count": 26
        }
      ]
    },
    {
      "cell_type": "code",
      "metadata": {
        "colab": {
          "base_uri": "https://localhost:8080/"
        },
        "id": "JJM_GT3Br1qb",
        "outputId": "372b4000-f876-4942-ccd6-8380621c889f"
      },
      "source": [
        "filmes[1:]"
      ],
      "execution_count": 27,
      "outputs": [
        {
          "output_type": "execute_result",
          "data": {
            "text/plain": [
              "['Matrix 1', 'Batman']"
            ]
          },
          "metadata": {},
          "execution_count": 27
        }
      ]
    },
    {
      "cell_type": "code",
      "metadata": {
        "colab": {
          "base_uri": "https://localhost:8080/"
        },
        "id": "5BOLDMltsBTQ",
        "outputId": "8f9c20bd-5ce1-4b0e-a235-e08b1abaa331"
      },
      "source": [
        "filmes[-2:]"
      ],
      "execution_count": 28,
      "outputs": [
        {
          "output_type": "execute_result",
          "data": {
            "text/plain": [
              "['Matrix 1', 'Batman']"
            ]
          },
          "metadata": {},
          "execution_count": 28
        }
      ]
    },
    {
      "cell_type": "code",
      "metadata": {
        "colab": {
          "base_uri": "https://localhost:8080/"
        },
        "id": "8Yk-ddjMsEkD",
        "outputId": "5d29d634-520a-4929-d7c1-cf935c5afaf0"
      },
      "source": [
        "for  filme in filmes:\n",
        "  print(filme)\n",
        "  print(\"...\")\n",
        "print(\"estou fora\")"
      ],
      "execution_count": 30,
      "outputs": [
        {
          "output_type": "stream",
          "name": "stdout",
          "text": [
            "Toy Story 17\n",
            "...\n",
            "Matrix 1\n",
            "...\n",
            "Batman\n",
            "...\n",
            "estou fora\n"
          ]
        }
      ]
    },
    {
      "cell_type": "code",
      "metadata": {
        "id": "ipHqmcIgs1jU"
      },
      "source": [
        "def imprime_filmes(filmes_que_quero_imprimir):\n",
        "    print(\"A lista de filmes que eu tenho disponível\")\n",
        "    for filme in filmes_que_quero_imprimir:\n",
        "      print(filme)"
      ],
      "execution_count": null,
      "outputs": []
    },
    {
      "cell_type": "code",
      "metadata": {
        "colab": {
          "base_uri": "https://localhost:8080/"
        },
        "id": "OrWzak-dtYSi",
        "outputId": "2b240a1a-04e5-4d73-eaba-aa38732b7391"
      },
      "source": [
        "imprime_filmes(filmes)"
      ],
      "execution_count": 33,
      "outputs": [
        {
          "output_type": "stream",
          "name": "stdout",
          "text": [
            "A lista de filmes que eu tenho disponível\n",
            "['Toy Story 17', 'Matrix 1', 'Batman']\n"
          ]
        }
      ]
    },
    {
      "cell_type": "code",
      "metadata": {
        "colab": {
          "base_uri": "https://localhost:8080/"
        },
        "id": "qnJIB3qF5LEX",
        "outputId": "91ce33f0-b964-4600-d719-9af66230bd6f"
      },
      "source": [
        "dados = {\"nome\" : \"Dã\",\n",
        "         \"idade\" : 15}\n",
        "dados"
      ],
      "execution_count": 35,
      "outputs": [
        {
          "output_type": "execute_result",
          "data": {
            "text/plain": [
              "{'idade': 15, 'nome': 'Dã'}"
            ]
          },
          "metadata": {},
          "execution_count": 35
        }
      ]
    },
    {
      "cell_type": "code",
      "metadata": {
        "colab": {
          "base_uri": "https://localhost:8080/",
          "height": 35
        },
        "id": "epEPyTiu7mZa",
        "outputId": "ccf59ebc-475f-4d60-e3bf-ed8e2d0d7dcf"
      },
      "source": [
        "dados[\"nome\"]"
      ],
      "execution_count": 37,
      "outputs": [
        {
          "output_type": "execute_result",
          "data": {
            "application/vnd.google.colaboratory.intrinsic+json": {
              "type": "string"
            },
            "text/plain": [
              "'Dã'"
            ]
          },
          "metadata": {},
          "execution_count": 37
        }
      ]
    },
    {
      "cell_type": "code",
      "metadata": {
        "id": "eJvICDRa7zmu"
      },
      "source": [
        ""
      ],
      "execution_count": null,
      "outputs": []
    }
  ]
}